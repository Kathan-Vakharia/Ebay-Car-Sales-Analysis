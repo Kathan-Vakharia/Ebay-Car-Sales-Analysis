{
  "nbformat": 4,
  "nbformat_minor": 0,
  "metadata": {
    "colab": {
      "name": "Exploring-Ebay-Cars-Sales-Data.ipynb",
      "provenance": [],
      "collapsed_sections": [],
      "authorship_tag": "ABX9TyNIMy4A8rzj8wndYG2WKC0w",
      "include_colab_link": true
    },
    "kernelspec": {
      "name": "python3",
      "display_name": "Python 3"
    },
    "language_info": {
      "name": "python"
    }
  },
  "cells": [
    {
      "cell_type": "markdown",
      "metadata": {
        "id": "view-in-github",
        "colab_type": "text"
      },
      "source": [
        "<a href=\"https://colab.research.google.com/github/Kathan-Vakharia/Exploring-Ebay-Car-Sales-Data/blob/main/Exploring_Ebay_Cars_Sales_Data.ipynb\" target=\"_parent\"><img src=\"https://colab.research.google.com/assets/colab-badge.svg\" alt=\"Open In Colab\"/></a>"
      ]
    },
    {
      "cell_type": "markdown",
      "metadata": {
        "id": "78cw_28kLutt"
      },
      "source": [
        "![image.png](data:image/png;base64,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)"
      ]
    },
    {
      "cell_type": "markdown",
      "metadata": {
        "id": "b2S2ke5BKtpD"
      },
      "source": [
        "# Abstract\n",
        "\n",
        "In this project, we'll explore data set of used cars from [eBay Kleinanzeigen](https://www.ebay-kleinanzeigen.de/), a classifieds section of the German eBay website.The dataset can found [here](https://data.world/data-society/used-cars-data). But I have used a modified(dirtier) version  of the dataset provided by Dataquest. The main aim of this project is to apply **Data Cleaning** and **Analyse** various car listings using `pandas` library of python."
      ]
    },
    {
      "cell_type": "markdown",
      "metadata": {
        "id": "WjFwlmOiNiLN"
      },
      "source": [
        "## Data Dictionary\n",
        "<ul>\n",
        "<li><code>dateCrawled</code> - When this ad was first crawled. All field-values are taken from this date.</li>\n",
        "<li><code>name</code> - Name of the car.</li>\n",
        "<li><code>seller</code> - Whether the seller is private or a dealer.</li>\n",
        "<li><code>offerType</code> - The type of listing</li>\n",
        "<li><code>price</code> - The price on the ad to sell the car.</li>\n",
        "<li><code>abtest</code> - Whether the listing is included in an <a href=\"https://www.leanplum.com/blog/test-group-vs-control-group/\">A/B test</a>.</li>\n",
        "<li><code>vehicleType</code> - The vehicle Type.</li>\n",
        "<li><code>yearOfRegistration</code> - The year in which the car was first registered.</li>\n",
        "<li><code>gearbox</code> - The transmission type.</li>\n",
        "<li><code>powerPS</code> - The power of the car in PS(german acronym for horsepower).</li>\n",
        "<li><code>model</code> - The car model name.</li>\n",
        "<li><code>odometer</code> - How many kilometers the car has driven.</li>\n",
        "<li><code>monthOfRegistration</code> - The month in which the car was first registered.</li>\n",
        "<li><code>fuelType</code> - What type of fuel the car uses.</li>\n",
        "<li><code>brand</code> - The brand of the car.</li>\n",
        "<li><code>notRepairedDamage</code> - If the car has a damage which is not yet repaired.</li>\n",
        "<li><code>dateCreated</code> - The date on which the eBay listing was created.</li>\n",
        "<li><code>nrOfPictures</code> - The number of pictures in the ad.</li>\n",
        "<li><code>postalCode</code> - The postal code for the location of the vehicle.</li>\n",
        "<li><code>lastSeenOnline</code> - When the crawler saw this ad last online.</li>\n",
        "</ul>"
      ]
    },
    {
      "cell_type": "markdown",
      "metadata": {
        "id": "r8Y8DhCuPOEz"
      },
      "source": [
        "# Import Libaries"
      ]
    },
    {
      "cell_type": "code",
      "metadata": {
        "id": "2Sh3kdyKFUdP"
      },
      "source": [
        "# importing libraries\n",
        "import numpy as np\n",
        "import pandas as pd"
      ],
      "execution_count": 1,
      "outputs": []
    },
    {
      "cell_type": "markdown",
      "metadata": {
        "id": "UwFUkecGPRuT"
      },
      "source": [
        "# Read Data"
      ]
    },
    {
      "cell_type": "code",
      "metadata": {
        "id": "IrLJVqN7H1Bl"
      },
      "source": [
        "url = \"https://raw.githubusercontent.com/Kathan-Vakharia/Exploring-Ebay-Car-Sales-Data/main/autos.csv\"\n",
        "autos = pd.read_csv(url, encoding=\"Latin-1\")"
      ],
      "execution_count": 2,
      "outputs": []
    },
    {
      "cell_type": "code",
      "metadata": {
        "colab": {
          "base_uri": "https://localhost:8080/",
          "height": 459
        },
        "id": "-ochb3CpH9sc",
        "outputId": "49198e2e-e886-4b0c-93a9-aba54e3cb2d5"
      },
      "source": [
        "autos.head(n=6)"
      ],
      "execution_count": 3,
      "outputs": [
        {
          "output_type": "execute_result",
          "data": {
            "text/html": [
              "<div>\n",
              "<style scoped>\n",
              "    .dataframe tbody tr th:only-of-type {\n",
              "        vertical-align: middle;\n",
              "    }\n",
              "\n",
              "    .dataframe tbody tr th {\n",
              "        vertical-align: top;\n",
              "    }\n",
              "\n",
              "    .dataframe thead th {\n",
              "        text-align: right;\n",
              "    }\n",
              "</style>\n",
              "<table border=\"1\" class=\"dataframe\">\n",
              "  <thead>\n",
              "    <tr style=\"text-align: right;\">\n",
              "      <th></th>\n",
              "      <th>dateCrawled</th>\n",
              "      <th>name</th>\n",
              "      <th>seller</th>\n",
              "      <th>offerType</th>\n",
              "      <th>price</th>\n",
              "      <th>abtest</th>\n",
              "      <th>vehicleType</th>\n",
              "      <th>yearOfRegistration</th>\n",
              "      <th>gearbox</th>\n",
              "      <th>powerPS</th>\n",
              "      <th>model</th>\n",
              "      <th>odometer</th>\n",
              "      <th>monthOfRegistration</th>\n",
              "      <th>fuelType</th>\n",
              "      <th>brand</th>\n",
              "      <th>notRepairedDamage</th>\n",
              "      <th>dateCreated</th>\n",
              "      <th>nrOfPictures</th>\n",
              "      <th>postalCode</th>\n",
              "      <th>lastSeen</th>\n",
              "    </tr>\n",
              "  </thead>\n",
              "  <tbody>\n",
              "    <tr>\n",
              "      <th>0</th>\n",
              "      <td>2016-03-26 17:47:46</td>\n",
              "      <td>Peugeot_807_160_NAVTECH_ON_BOARD</td>\n",
              "      <td>privat</td>\n",
              "      <td>Angebot</td>\n",
              "      <td>$5,000</td>\n",
              "      <td>control</td>\n",
              "      <td>bus</td>\n",
              "      <td>2004</td>\n",
              "      <td>manuell</td>\n",
              "      <td>158</td>\n",
              "      <td>andere</td>\n",
              "      <td>150,000km</td>\n",
              "      <td>3</td>\n",
              "      <td>lpg</td>\n",
              "      <td>peugeot</td>\n",
              "      <td>nein</td>\n",
              "      <td>2016-03-26 00:00:00</td>\n",
              "      <td>0</td>\n",
              "      <td>79588</td>\n",
              "      <td>2016-04-06 06:45:54</td>\n",
              "    </tr>\n",
              "    <tr>\n",
              "      <th>1</th>\n",
              "      <td>2016-04-04 13:38:56</td>\n",
              "      <td>BMW_740i_4_4_Liter_HAMANN_UMBAU_Mega_Optik</td>\n",
              "      <td>privat</td>\n",
              "      <td>Angebot</td>\n",
              "      <td>$8,500</td>\n",
              "      <td>control</td>\n",
              "      <td>limousine</td>\n",
              "      <td>1997</td>\n",
              "      <td>automatik</td>\n",
              "      <td>286</td>\n",
              "      <td>7er</td>\n",
              "      <td>150,000km</td>\n",
              "      <td>6</td>\n",
              "      <td>benzin</td>\n",
              "      <td>bmw</td>\n",
              "      <td>nein</td>\n",
              "      <td>2016-04-04 00:00:00</td>\n",
              "      <td>0</td>\n",
              "      <td>71034</td>\n",
              "      <td>2016-04-06 14:45:08</td>\n",
              "    </tr>\n",
              "    <tr>\n",
              "      <th>2</th>\n",
              "      <td>2016-03-26 18:57:24</td>\n",
              "      <td>Volkswagen_Golf_1.6_United</td>\n",
              "      <td>privat</td>\n",
              "      <td>Angebot</td>\n",
              "      <td>$8,990</td>\n",
              "      <td>test</td>\n",
              "      <td>limousine</td>\n",
              "      <td>2009</td>\n",
              "      <td>manuell</td>\n",
              "      <td>102</td>\n",
              "      <td>golf</td>\n",
              "      <td>70,000km</td>\n",
              "      <td>7</td>\n",
              "      <td>benzin</td>\n",
              "      <td>volkswagen</td>\n",
              "      <td>nein</td>\n",
              "      <td>2016-03-26 00:00:00</td>\n",
              "      <td>0</td>\n",
              "      <td>35394</td>\n",
              "      <td>2016-04-06 20:15:37</td>\n",
              "    </tr>\n",
              "    <tr>\n",
              "      <th>3</th>\n",
              "      <td>2016-03-12 16:58:10</td>\n",
              "      <td>Smart_smart_fortwo_coupe_softouch/F1/Klima/Pan...</td>\n",
              "      <td>privat</td>\n",
              "      <td>Angebot</td>\n",
              "      <td>$4,350</td>\n",
              "      <td>control</td>\n",
              "      <td>kleinwagen</td>\n",
              "      <td>2007</td>\n",
              "      <td>automatik</td>\n",
              "      <td>71</td>\n",
              "      <td>fortwo</td>\n",
              "      <td>70,000km</td>\n",
              "      <td>6</td>\n",
              "      <td>benzin</td>\n",
              "      <td>smart</td>\n",
              "      <td>nein</td>\n",
              "      <td>2016-03-12 00:00:00</td>\n",
              "      <td>0</td>\n",
              "      <td>33729</td>\n",
              "      <td>2016-03-15 03:16:28</td>\n",
              "    </tr>\n",
              "    <tr>\n",
              "      <th>4</th>\n",
              "      <td>2016-04-01 14:38:50</td>\n",
              "      <td>Ford_Focus_1_6_Benzin_TÜV_neu_ist_sehr_gepfleg...</td>\n",
              "      <td>privat</td>\n",
              "      <td>Angebot</td>\n",
              "      <td>$1,350</td>\n",
              "      <td>test</td>\n",
              "      <td>kombi</td>\n",
              "      <td>2003</td>\n",
              "      <td>manuell</td>\n",
              "      <td>0</td>\n",
              "      <td>focus</td>\n",
              "      <td>150,000km</td>\n",
              "      <td>7</td>\n",
              "      <td>benzin</td>\n",
              "      <td>ford</td>\n",
              "      <td>nein</td>\n",
              "      <td>2016-04-01 00:00:00</td>\n",
              "      <td>0</td>\n",
              "      <td>39218</td>\n",
              "      <td>2016-04-01 14:38:50</td>\n",
              "    </tr>\n",
              "    <tr>\n",
              "      <th>5</th>\n",
              "      <td>2016-03-21 13:47:45</td>\n",
              "      <td>Chrysler_Grand_Voyager_2.8_CRD_Aut.Limited_Sto...</td>\n",
              "      <td>privat</td>\n",
              "      <td>Angebot</td>\n",
              "      <td>$7,900</td>\n",
              "      <td>test</td>\n",
              "      <td>bus</td>\n",
              "      <td>2006</td>\n",
              "      <td>automatik</td>\n",
              "      <td>150</td>\n",
              "      <td>voyager</td>\n",
              "      <td>150,000km</td>\n",
              "      <td>4</td>\n",
              "      <td>diesel</td>\n",
              "      <td>chrysler</td>\n",
              "      <td>NaN</td>\n",
              "      <td>2016-03-21 00:00:00</td>\n",
              "      <td>0</td>\n",
              "      <td>22962</td>\n",
              "      <td>2016-04-06 09:45:21</td>\n",
              "    </tr>\n",
              "  </tbody>\n",
              "</table>\n",
              "</div>"
            ],
            "text/plain": [
              "           dateCrawled  ...             lastSeen\n",
              "0  2016-03-26 17:47:46  ...  2016-04-06 06:45:54\n",
              "1  2016-04-04 13:38:56  ...  2016-04-06 14:45:08\n",
              "2  2016-03-26 18:57:24  ...  2016-04-06 20:15:37\n",
              "3  2016-03-12 16:58:10  ...  2016-03-15 03:16:28\n",
              "4  2016-04-01 14:38:50  ...  2016-04-01 14:38:50\n",
              "5  2016-03-21 13:47:45  ...  2016-04-06 09:45:21\n",
              "\n",
              "[6 rows x 20 columns]"
            ]
          },
          "metadata": {
            "tags": []
          },
          "execution_count": 3
        }
      ]
    },
    {
      "cell_type": "markdown",
      "metadata": {
        "id": "wt9zte7xe5hn"
      },
      "source": [
        "# Examining Columns"
      ]
    },
    {
      "cell_type": "code",
      "metadata": {
        "colab": {
          "base_uri": "https://localhost:8080/"
        },
        "id": "MS3i_72qdzkV",
        "outputId": "cfc81728-f659-4dc2-854f-6fdcd3105a04"
      },
      "source": [
        "autos.info()"
      ],
      "execution_count": 4,
      "outputs": [
        {
          "output_type": "stream",
          "text": [
            "<class 'pandas.core.frame.DataFrame'>\n",
            "RangeIndex: 50000 entries, 0 to 49999\n",
            "Data columns (total 20 columns):\n",
            " #   Column               Non-Null Count  Dtype \n",
            "---  ------               --------------  ----- \n",
            " 0   dateCrawled          50000 non-null  object\n",
            " 1   name                 50000 non-null  object\n",
            " 2   seller               50000 non-null  object\n",
            " 3   offerType            50000 non-null  object\n",
            " 4   price                50000 non-null  object\n",
            " 5   abtest               50000 non-null  object\n",
            " 6   vehicleType          44905 non-null  object\n",
            " 7   yearOfRegistration   50000 non-null  int64 \n",
            " 8   gearbox              47320 non-null  object\n",
            " 9   powerPS              50000 non-null  int64 \n",
            " 10  model                47242 non-null  object\n",
            " 11  odometer             50000 non-null  object\n",
            " 12  monthOfRegistration  50000 non-null  int64 \n",
            " 13  fuelType             45518 non-null  object\n",
            " 14  brand                50000 non-null  object\n",
            " 15  notRepairedDamage    40171 non-null  object\n",
            " 16  dateCreated          50000 non-null  object\n",
            " 17  nrOfPictures         50000 non-null  int64 \n",
            " 18  postalCode           50000 non-null  int64 \n",
            " 19  lastSeen             50000 non-null  object\n",
            "dtypes: int64(5), object(15)\n",
            "memory usage: 7.6+ MB\n"
          ],
          "name": "stdout"
        }
      ]
    },
    {
      "cell_type": "markdown",
      "metadata": {
        "id": "7BvM3p-dfBv3"
      },
      "source": [
        "- There are **50000** rows and **20** columns in our dataset. And most of the columns are `strings`.\n",
        "- Even the dates are represented as strings.\n"
      ]
    },
    {
      "cell_type": "code",
      "metadata": {
        "colab": {
          "base_uri": "https://localhost:8080/"
        },
        "id": "rvVt3I0mhPs3",
        "outputId": "50e483b0-359d-4c08-9367-ae84b18362de"
      },
      "source": [
        "#Which columns contain null values?\n",
        "null_cols = autos.isna().any()\n",
        "null_cols[null_cols]"
      ],
      "execution_count": 5,
      "outputs": [
        {
          "output_type": "execute_result",
          "data": {
            "text/plain": [
              "vehicleType          True\n",
              "gearbox              True\n",
              "model                True\n",
              "fuelType             True\n",
              "notRepairedDamage    True\n",
              "dtype: bool"
            ]
          },
          "metadata": {
            "tags": []
          },
          "execution_count": 5
        }
      ]
    },
    {
      "cell_type": "markdown",
      "metadata": {
        "id": "1ojq_mSJhZoH"
      },
      "source": [
        "- Thus, following columns contains `null` values:\n",
        "    - `vehicleType`\n",
        "    - `gearbox`\n",
        "    - `model`\n",
        "    - `fuelType`\n",
        "    - `notRepairedDamage`"
      ]
    },
    {
      "cell_type": "code",
      "metadata": {
        "colab": {
          "base_uri": "https://localhost:8080/"
        },
        "id": "ZpeCdS9keA8v",
        "outputId": "b97e6c2d-8c0e-4956-b5b3-7c4aaf2330b9"
      },
      "source": [
        "# How many % of data in each column is null\n",
        "per_null = autos.isna().sum()/autos.shape[0] * 100\n",
        "per_null[per_null != 0]"
      ],
      "execution_count": 6,
      "outputs": [
        {
          "output_type": "execute_result",
          "data": {
            "text/plain": [
              "vehicleType          10.190\n",
              "gearbox               5.360\n",
              "model                 5.516\n",
              "fuelType              8.964\n",
              "notRepairedDamage    19.658\n",
              "dtype: float64"
            ]
          },
          "metadata": {
            "tags": []
          },
          "execution_count": 6
        }
      ]
    },
    {
      "cell_type": "markdown",
      "metadata": {
        "id": "zSfVtsmjiE1g"
      },
      "source": [
        "- No column contains more than **~20%** `null` values."
      ]
    },
    {
      "cell_type": "markdown",
      "metadata": {
        "id": "wc4EV83MkI8-"
      },
      "source": [
        "# Cleaning Column Names\n",
        "We can see below that column names are in **camelCase** but in python, **snake_case** is preferred. \n",
        "\n",
        "- Let's convert column names to **snake_case** and **reword** some other column names so they are more descriptive."
      ]
    },
    {
      "cell_type": "code",
      "metadata": {
        "colab": {
          "base_uri": "https://localhost:8080/"
        },
        "id": "Ivs4FVCZgnIs",
        "outputId": "e5801e51-fc27-4345-9662-52c0fe9cb695"
      },
      "source": [
        "autos.columns"
      ],
      "execution_count": 7,
      "outputs": [
        {
          "output_type": "execute_result",
          "data": {
            "text/plain": [
              "Index(['dateCrawled', 'name', 'seller', 'offerType', 'price', 'abtest',\n",
              "       'vehicleType', 'yearOfRegistration', 'gearbox', 'powerPS', 'model',\n",
              "       'odometer', 'monthOfRegistration', 'fuelType', 'brand',\n",
              "       'notRepairedDamage', 'dateCreated', 'nrOfPictures', 'postalCode',\n",
              "       'lastSeen'],\n",
              "      dtype='object')"
            ]
          },
          "metadata": {
            "tags": []
          },
          "execution_count": 7
        }
      ]
    },
    {
      "cell_type": "code",
      "metadata": {
        "colab": {
          "base_uri": "https://localhost:8080/",
          "height": 394
        },
        "id": "g8VgA7QKkywv",
        "outputId": "1c62a90f-b58b-44a6-8245-4919d71fcb56"
      },
      "source": [
        "new_cols = ['date_crawled', 'name', 'seller', 'offer_type', 'price', 'abtest',\n",
        "       'vehicle_type', 'registration_year', 'gearbox', 'power_ps', 'model',\n",
        "       'odometer', 'registration_month', 'fuel_type', 'brand',\n",
        "       'unrepaired_damage', 'ad_created', 'num_pictures', 'postal_code',\n",
        "       'last_seen']\n",
        "autos.columns = new_cols\n",
        "autos.head()"
      ],
      "execution_count": 8,
      "outputs": [
        {
          "output_type": "execute_result",
          "data": {
            "text/html": [
              "<div>\n",
              "<style scoped>\n",
              "    .dataframe tbody tr th:only-of-type {\n",
              "        vertical-align: middle;\n",
              "    }\n",
              "\n",
              "    .dataframe tbody tr th {\n",
              "        vertical-align: top;\n",
              "    }\n",
              "\n",
              "    .dataframe thead th {\n",
              "        text-align: right;\n",
              "    }\n",
              "</style>\n",
              "<table border=\"1\" class=\"dataframe\">\n",
              "  <thead>\n",
              "    <tr style=\"text-align: right;\">\n",
              "      <th></th>\n",
              "      <th>date_crawled</th>\n",
              "      <th>name</th>\n",
              "      <th>seller</th>\n",
              "      <th>offer_type</th>\n",
              "      <th>price</th>\n",
              "      <th>abtest</th>\n",
              "      <th>vehicle_type</th>\n",
              "      <th>registration_year</th>\n",
              "      <th>gearbox</th>\n",
              "      <th>power_ps</th>\n",
              "      <th>model</th>\n",
              "      <th>odometer</th>\n",
              "      <th>registration_month</th>\n",
              "      <th>fuel_type</th>\n",
              "      <th>brand</th>\n",
              "      <th>unrepaired_damage</th>\n",
              "      <th>ad_created</th>\n",
              "      <th>num_pictures</th>\n",
              "      <th>postal_code</th>\n",
              "      <th>last_seen</th>\n",
              "    </tr>\n",
              "  </thead>\n",
              "  <tbody>\n",
              "    <tr>\n",
              "      <th>0</th>\n",
              "      <td>2016-03-26 17:47:46</td>\n",
              "      <td>Peugeot_807_160_NAVTECH_ON_BOARD</td>\n",
              "      <td>privat</td>\n",
              "      <td>Angebot</td>\n",
              "      <td>$5,000</td>\n",
              "      <td>control</td>\n",
              "      <td>bus</td>\n",
              "      <td>2004</td>\n",
              "      <td>manuell</td>\n",
              "      <td>158</td>\n",
              "      <td>andere</td>\n",
              "      <td>150,000km</td>\n",
              "      <td>3</td>\n",
              "      <td>lpg</td>\n",
              "      <td>peugeot</td>\n",
              "      <td>nein</td>\n",
              "      <td>2016-03-26 00:00:00</td>\n",
              "      <td>0</td>\n",
              "      <td>79588</td>\n",
              "      <td>2016-04-06 06:45:54</td>\n",
              "    </tr>\n",
              "    <tr>\n",
              "      <th>1</th>\n",
              "      <td>2016-04-04 13:38:56</td>\n",
              "      <td>BMW_740i_4_4_Liter_HAMANN_UMBAU_Mega_Optik</td>\n",
              "      <td>privat</td>\n",
              "      <td>Angebot</td>\n",
              "      <td>$8,500</td>\n",
              "      <td>control</td>\n",
              "      <td>limousine</td>\n",
              "      <td>1997</td>\n",
              "      <td>automatik</td>\n",
              "      <td>286</td>\n",
              "      <td>7er</td>\n",
              "      <td>150,000km</td>\n",
              "      <td>6</td>\n",
              "      <td>benzin</td>\n",
              "      <td>bmw</td>\n",
              "      <td>nein</td>\n",
              "      <td>2016-04-04 00:00:00</td>\n",
              "      <td>0</td>\n",
              "      <td>71034</td>\n",
              "      <td>2016-04-06 14:45:08</td>\n",
              "    </tr>\n",
              "    <tr>\n",
              "      <th>2</th>\n",
              "      <td>2016-03-26 18:57:24</td>\n",
              "      <td>Volkswagen_Golf_1.6_United</td>\n",
              "      <td>privat</td>\n",
              "      <td>Angebot</td>\n",
              "      <td>$8,990</td>\n",
              "      <td>test</td>\n",
              "      <td>limousine</td>\n",
              "      <td>2009</td>\n",
              "      <td>manuell</td>\n",
              "      <td>102</td>\n",
              "      <td>golf</td>\n",
              "      <td>70,000km</td>\n",
              "      <td>7</td>\n",
              "      <td>benzin</td>\n",
              "      <td>volkswagen</td>\n",
              "      <td>nein</td>\n",
              "      <td>2016-03-26 00:00:00</td>\n",
              "      <td>0</td>\n",
              "      <td>35394</td>\n",
              "      <td>2016-04-06 20:15:37</td>\n",
              "    </tr>\n",
              "    <tr>\n",
              "      <th>3</th>\n",
              "      <td>2016-03-12 16:58:10</td>\n",
              "      <td>Smart_smart_fortwo_coupe_softouch/F1/Klima/Pan...</td>\n",
              "      <td>privat</td>\n",
              "      <td>Angebot</td>\n",
              "      <td>$4,350</td>\n",
              "      <td>control</td>\n",
              "      <td>kleinwagen</td>\n",
              "      <td>2007</td>\n",
              "      <td>automatik</td>\n",
              "      <td>71</td>\n",
              "      <td>fortwo</td>\n",
              "      <td>70,000km</td>\n",
              "      <td>6</td>\n",
              "      <td>benzin</td>\n",
              "      <td>smart</td>\n",
              "      <td>nein</td>\n",
              "      <td>2016-03-12 00:00:00</td>\n",
              "      <td>0</td>\n",
              "      <td>33729</td>\n",
              "      <td>2016-03-15 03:16:28</td>\n",
              "    </tr>\n",
              "    <tr>\n",
              "      <th>4</th>\n",
              "      <td>2016-04-01 14:38:50</td>\n",
              "      <td>Ford_Focus_1_6_Benzin_TÜV_neu_ist_sehr_gepfleg...</td>\n",
              "      <td>privat</td>\n",
              "      <td>Angebot</td>\n",
              "      <td>$1,350</td>\n",
              "      <td>test</td>\n",
              "      <td>kombi</td>\n",
              "      <td>2003</td>\n",
              "      <td>manuell</td>\n",
              "      <td>0</td>\n",
              "      <td>focus</td>\n",
              "      <td>150,000km</td>\n",
              "      <td>7</td>\n",
              "      <td>benzin</td>\n",
              "      <td>ford</td>\n",
              "      <td>nein</td>\n",
              "      <td>2016-04-01 00:00:00</td>\n",
              "      <td>0</td>\n",
              "      <td>39218</td>\n",
              "      <td>2016-04-01 14:38:50</td>\n",
              "    </tr>\n",
              "  </tbody>\n",
              "</table>\n",
              "</div>"
            ],
            "text/plain": [
              "          date_crawled  ...            last_seen\n",
              "0  2016-03-26 17:47:46  ...  2016-04-06 06:45:54\n",
              "1  2016-04-04 13:38:56  ...  2016-04-06 14:45:08\n",
              "2  2016-03-26 18:57:24  ...  2016-04-06 20:15:37\n",
              "3  2016-03-12 16:58:10  ...  2016-03-15 03:16:28\n",
              "4  2016-04-01 14:38:50  ...  2016-04-01 14:38:50\n",
              "\n",
              "[5 rows x 20 columns]"
            ]
          },
          "metadata": {
            "tags": []
          },
          "execution_count": 8
        }
      ]
    },
    {
      "cell_type": "markdown",
      "metadata": {
        "id": "9ihmpTZ1mISg"
      },
      "source": [
        "# Initial Exploration and Cleaning\n",
        "\n",
        "Initially we will look for:\n",
        "\n",
        "- Text/Numeric columns where all or almost all values are the same. These can often be dropped as they don't have useful information for analysis.\n",
        "- Examples of numeric data stored as text which can be cleaned and converted."
      ]
    },
    {
      "cell_type": "code",
      "metadata": {
        "colab": {
          "base_uri": "https://localhost:8080/",
          "height": 294
        },
        "id": "ciuTo0RyluSE",
        "outputId": "6bc95fe6-2dc2-475f-8ac1-672721bed122"
      },
      "source": [
        "#summary stats for numerical columns\n",
        "autos.describe()"
      ],
      "execution_count": 9,
      "outputs": [
        {
          "output_type": "execute_result",
          "data": {
            "text/html": [
              "<div>\n",
              "<style scoped>\n",
              "    .dataframe tbody tr th:only-of-type {\n",
              "        vertical-align: middle;\n",
              "    }\n",
              "\n",
              "    .dataframe tbody tr th {\n",
              "        vertical-align: top;\n",
              "    }\n",
              "\n",
              "    .dataframe thead th {\n",
              "        text-align: right;\n",
              "    }\n",
              "</style>\n",
              "<table border=\"1\" class=\"dataframe\">\n",
              "  <thead>\n",
              "    <tr style=\"text-align: right;\">\n",
              "      <th></th>\n",
              "      <th>registration_year</th>\n",
              "      <th>power_ps</th>\n",
              "      <th>registration_month</th>\n",
              "      <th>num_pictures</th>\n",
              "      <th>postal_code</th>\n",
              "    </tr>\n",
              "  </thead>\n",
              "  <tbody>\n",
              "    <tr>\n",
              "      <th>count</th>\n",
              "      <td>50000.000000</td>\n",
              "      <td>50000.000000</td>\n",
              "      <td>50000.000000</td>\n",
              "      <td>50000.0</td>\n",
              "      <td>50000.000000</td>\n",
              "    </tr>\n",
              "    <tr>\n",
              "      <th>mean</th>\n",
              "      <td>2005.073280</td>\n",
              "      <td>116.355920</td>\n",
              "      <td>5.723360</td>\n",
              "      <td>0.0</td>\n",
              "      <td>50813.627300</td>\n",
              "    </tr>\n",
              "    <tr>\n",
              "      <th>std</th>\n",
              "      <td>105.712813</td>\n",
              "      <td>209.216627</td>\n",
              "      <td>3.711984</td>\n",
              "      <td>0.0</td>\n",
              "      <td>25779.747957</td>\n",
              "    </tr>\n",
              "    <tr>\n",
              "      <th>min</th>\n",
              "      <td>1000.000000</td>\n",
              "      <td>0.000000</td>\n",
              "      <td>0.000000</td>\n",
              "      <td>0.0</td>\n",
              "      <td>1067.000000</td>\n",
              "    </tr>\n",
              "    <tr>\n",
              "      <th>25%</th>\n",
              "      <td>1999.000000</td>\n",
              "      <td>70.000000</td>\n",
              "      <td>3.000000</td>\n",
              "      <td>0.0</td>\n",
              "      <td>30451.000000</td>\n",
              "    </tr>\n",
              "    <tr>\n",
              "      <th>50%</th>\n",
              "      <td>2003.000000</td>\n",
              "      <td>105.000000</td>\n",
              "      <td>6.000000</td>\n",
              "      <td>0.0</td>\n",
              "      <td>49577.000000</td>\n",
              "    </tr>\n",
              "    <tr>\n",
              "      <th>75%</th>\n",
              "      <td>2008.000000</td>\n",
              "      <td>150.000000</td>\n",
              "      <td>9.000000</td>\n",
              "      <td>0.0</td>\n",
              "      <td>71540.000000</td>\n",
              "    </tr>\n",
              "    <tr>\n",
              "      <th>max</th>\n",
              "      <td>9999.000000</td>\n",
              "      <td>17700.000000</td>\n",
              "      <td>12.000000</td>\n",
              "      <td>0.0</td>\n",
              "      <td>99998.000000</td>\n",
              "    </tr>\n",
              "  </tbody>\n",
              "</table>\n",
              "</div>"
            ],
            "text/plain": [
              "       registration_year      power_ps  ...  num_pictures   postal_code\n",
              "count       50000.000000  50000.000000  ...       50000.0  50000.000000\n",
              "mean         2005.073280    116.355920  ...           0.0  50813.627300\n",
              "std           105.712813    209.216627  ...           0.0  25779.747957\n",
              "min          1000.000000      0.000000  ...           0.0   1067.000000\n",
              "25%          1999.000000     70.000000  ...           0.0  30451.000000\n",
              "50%          2003.000000    105.000000  ...           0.0  49577.000000\n",
              "75%          2008.000000    150.000000  ...           0.0  71540.000000\n",
              "max          9999.000000  17700.000000  ...           0.0  99998.000000\n",
              "\n",
              "[8 rows x 5 columns]"
            ]
          },
          "metadata": {
            "tags": []
          },
          "execution_count": 9
        }
      ]
    },
    {
      "cell_type": "markdown",
      "metadata": {
        "id": "t0Rv4qEZnB9J"
      },
      "source": [
        "Noteworthy Observations:\n",
        "- `registration_year`'s minimum value is **1000** and maximum value is **9999** which is not possible.\n",
        "- `power_ps`'s minimum value is **0** maximun value is **~17K** horse power which again is not possible till date. [ref](https://autowise.com/highest-horsepower-cars/)\n",
        "- `registration_month`'s minimum value is **0** and maximum value is **12**, which is again not possible as there are only **12** months in a year\n",
        "- There seems to be something wrong with `num_pictures` column as all of its statistics(except count) is zero. \n",
        "\n",
        "For now, let's examine `num_pictures` column more,"
      ]
    },
    {
      "cell_type": "code",
      "metadata": {
        "colab": {
          "base_uri": "https://localhost:8080/"
        },
        "id": "Er6sJLH3ny2J",
        "outputId": "cfd40123-eb86-4a70-d1ae-ffe654b9bcdf"
      },
      "source": [
        "autos[\"num_pictures\"].value_counts()"
      ],
      "execution_count": 10,
      "outputs": [
        {
          "output_type": "execute_result",
          "data": {
            "text/plain": [
              "0    50000\n",
              "Name: num_pictures, dtype: int64"
            ]
          },
          "metadata": {
            "tags": []
          },
          "execution_count": 10
        }
      ]
    },
    {
      "cell_type": "markdown",
      "metadata": {
        "id": "KQcipND-n3Jx"
      },
      "source": [
        "It turns out that all the values in `num_pictures` column are zeros. Thus, this column is of no use to us for data analysis and we'll happily drop it. But before we do that, let's see if have some useless text column that needs to be dropped?"
      ]
    },
    {
      "cell_type": "code",
      "metadata": {
        "colab": {
          "base_uri": "https://localhost:8080/",
          "height": 225
        },
        "id": "ZvNyxuvQmf57",
        "outputId": "f3213cf0-33e7-4358-8657-e22f0a3f7b2f"
      },
      "source": [
        "#summary stats for text columns\n",
        "autos.describe(include=['O'])"
      ],
      "execution_count": 11,
      "outputs": [
        {
          "output_type": "execute_result",
          "data": {
            "text/html": [
              "<div>\n",
              "<style scoped>\n",
              "    .dataframe tbody tr th:only-of-type {\n",
              "        vertical-align: middle;\n",
              "    }\n",
              "\n",
              "    .dataframe tbody tr th {\n",
              "        vertical-align: top;\n",
              "    }\n",
              "\n",
              "    .dataframe thead th {\n",
              "        text-align: right;\n",
              "    }\n",
              "</style>\n",
              "<table border=\"1\" class=\"dataframe\">\n",
              "  <thead>\n",
              "    <tr style=\"text-align: right;\">\n",
              "      <th></th>\n",
              "      <th>date_crawled</th>\n",
              "      <th>name</th>\n",
              "      <th>seller</th>\n",
              "      <th>offer_type</th>\n",
              "      <th>price</th>\n",
              "      <th>abtest</th>\n",
              "      <th>vehicle_type</th>\n",
              "      <th>gearbox</th>\n",
              "      <th>model</th>\n",
              "      <th>odometer</th>\n",
              "      <th>fuel_type</th>\n",
              "      <th>brand</th>\n",
              "      <th>unrepaired_damage</th>\n",
              "      <th>ad_created</th>\n",
              "      <th>last_seen</th>\n",
              "    </tr>\n",
              "  </thead>\n",
              "  <tbody>\n",
              "    <tr>\n",
              "      <th>count</th>\n",
              "      <td>50000</td>\n",
              "      <td>50000</td>\n",
              "      <td>50000</td>\n",
              "      <td>50000</td>\n",
              "      <td>50000</td>\n",
              "      <td>50000</td>\n",
              "      <td>44905</td>\n",
              "      <td>47320</td>\n",
              "      <td>47242</td>\n",
              "      <td>50000</td>\n",
              "      <td>45518</td>\n",
              "      <td>50000</td>\n",
              "      <td>40171</td>\n",
              "      <td>50000</td>\n",
              "      <td>50000</td>\n",
              "    </tr>\n",
              "    <tr>\n",
              "      <th>unique</th>\n",
              "      <td>48213</td>\n",
              "      <td>38754</td>\n",
              "      <td>2</td>\n",
              "      <td>2</td>\n",
              "      <td>2357</td>\n",
              "      <td>2</td>\n",
              "      <td>8</td>\n",
              "      <td>2</td>\n",
              "      <td>245</td>\n",
              "      <td>13</td>\n",
              "      <td>7</td>\n",
              "      <td>40</td>\n",
              "      <td>2</td>\n",
              "      <td>76</td>\n",
              "      <td>39481</td>\n",
              "    </tr>\n",
              "    <tr>\n",
              "      <th>top</th>\n",
              "      <td>2016-03-30 17:37:35</td>\n",
              "      <td>Ford_Fiesta</td>\n",
              "      <td>privat</td>\n",
              "      <td>Angebot</td>\n",
              "      <td>$0</td>\n",
              "      <td>test</td>\n",
              "      <td>limousine</td>\n",
              "      <td>manuell</td>\n",
              "      <td>golf</td>\n",
              "      <td>150,000km</td>\n",
              "      <td>benzin</td>\n",
              "      <td>volkswagen</td>\n",
              "      <td>nein</td>\n",
              "      <td>2016-04-03 00:00:00</td>\n",
              "      <td>2016-04-07 06:17:27</td>\n",
              "    </tr>\n",
              "    <tr>\n",
              "      <th>freq</th>\n",
              "      <td>3</td>\n",
              "      <td>78</td>\n",
              "      <td>49999</td>\n",
              "      <td>49999</td>\n",
              "      <td>1421</td>\n",
              "      <td>25756</td>\n",
              "      <td>12859</td>\n",
              "      <td>36993</td>\n",
              "      <td>4024</td>\n",
              "      <td>32424</td>\n",
              "      <td>30107</td>\n",
              "      <td>10687</td>\n",
              "      <td>35232</td>\n",
              "      <td>1946</td>\n",
              "      <td>8</td>\n",
              "    </tr>\n",
              "  </tbody>\n",
              "</table>\n",
              "</div>"
            ],
            "text/plain": [
              "               date_crawled  ...            last_seen\n",
              "count                 50000  ...                50000\n",
              "unique                48213  ...                39481\n",
              "top     2016-03-30 17:37:35  ...  2016-04-07 06:17:27\n",
              "freq                      3  ...                    8\n",
              "\n",
              "[4 rows x 15 columns]"
            ]
          },
          "metadata": {
            "tags": []
          },
          "execution_count": 11
        }
      ]
    },
    {
      "cell_type": "markdown",
      "metadata": {
        "id": "-vArH88vDed7"
      },
      "source": [
        "Noteworthy observations:\n",
        "- `seller` and `offer_type` column have 49,999 out of 50,000 values to be **privat** and **Angebot** respectively. This columns are not gonna help us in our analysis since they contain same values in almost all the entries, so we have to drop them.\n",
        "\n",
        "Let's drop, `seller`, `offer_type`, `num_pictures` columns before we go any further."
      ]
    },
    {
      "cell_type": "code",
      "metadata": {
        "colab": {
          "base_uri": "https://localhost:8080/",
          "height": 394
        },
        "id": "N_4iO2UZmvoZ",
        "outputId": "9aae3d8e-3f99-4e47-c95b-022e97315f39"
      },
      "source": [
        "autos.drop(columns=[\"seller\", \"offer_type\", \"num_pictures\"], inplace=True)\n",
        "autos.head()"
      ],
      "execution_count": 12,
      "outputs": [
        {
          "output_type": "execute_result",
          "data": {
            "text/html": [
              "<div>\n",
              "<style scoped>\n",
              "    .dataframe tbody tr th:only-of-type {\n",
              "        vertical-align: middle;\n",
              "    }\n",
              "\n",
              "    .dataframe tbody tr th {\n",
              "        vertical-align: top;\n",
              "    }\n",
              "\n",
              "    .dataframe thead th {\n",
              "        text-align: right;\n",
              "    }\n",
              "</style>\n",
              "<table border=\"1\" class=\"dataframe\">\n",
              "  <thead>\n",
              "    <tr style=\"text-align: right;\">\n",
              "      <th></th>\n",
              "      <th>date_crawled</th>\n",
              "      <th>name</th>\n",
              "      <th>price</th>\n",
              "      <th>abtest</th>\n",
              "      <th>vehicle_type</th>\n",
              "      <th>registration_year</th>\n",
              "      <th>gearbox</th>\n",
              "      <th>power_ps</th>\n",
              "      <th>model</th>\n",
              "      <th>odometer</th>\n",
              "      <th>registration_month</th>\n",
              "      <th>fuel_type</th>\n",
              "      <th>brand</th>\n",
              "      <th>unrepaired_damage</th>\n",
              "      <th>ad_created</th>\n",
              "      <th>postal_code</th>\n",
              "      <th>last_seen</th>\n",
              "    </tr>\n",
              "  </thead>\n",
              "  <tbody>\n",
              "    <tr>\n",
              "      <th>0</th>\n",
              "      <td>2016-03-26 17:47:46</td>\n",
              "      <td>Peugeot_807_160_NAVTECH_ON_BOARD</td>\n",
              "      <td>$5,000</td>\n",
              "      <td>control</td>\n",
              "      <td>bus</td>\n",
              "      <td>2004</td>\n",
              "      <td>manuell</td>\n",
              "      <td>158</td>\n",
              "      <td>andere</td>\n",
              "      <td>150,000km</td>\n",
              "      <td>3</td>\n",
              "      <td>lpg</td>\n",
              "      <td>peugeot</td>\n",
              "      <td>nein</td>\n",
              "      <td>2016-03-26 00:00:00</td>\n",
              "      <td>79588</td>\n",
              "      <td>2016-04-06 06:45:54</td>\n",
              "    </tr>\n",
              "    <tr>\n",
              "      <th>1</th>\n",
              "      <td>2016-04-04 13:38:56</td>\n",
              "      <td>BMW_740i_4_4_Liter_HAMANN_UMBAU_Mega_Optik</td>\n",
              "      <td>$8,500</td>\n",
              "      <td>control</td>\n",
              "      <td>limousine</td>\n",
              "      <td>1997</td>\n",
              "      <td>automatik</td>\n",
              "      <td>286</td>\n",
              "      <td>7er</td>\n",
              "      <td>150,000km</td>\n",
              "      <td>6</td>\n",
              "      <td>benzin</td>\n",
              "      <td>bmw</td>\n",
              "      <td>nein</td>\n",
              "      <td>2016-04-04 00:00:00</td>\n",
              "      <td>71034</td>\n",
              "      <td>2016-04-06 14:45:08</td>\n",
              "    </tr>\n",
              "    <tr>\n",
              "      <th>2</th>\n",
              "      <td>2016-03-26 18:57:24</td>\n",
              "      <td>Volkswagen_Golf_1.6_United</td>\n",
              "      <td>$8,990</td>\n",
              "      <td>test</td>\n",
              "      <td>limousine</td>\n",
              "      <td>2009</td>\n",
              "      <td>manuell</td>\n",
              "      <td>102</td>\n",
              "      <td>golf</td>\n",
              "      <td>70,000km</td>\n",
              "      <td>7</td>\n",
              "      <td>benzin</td>\n",
              "      <td>volkswagen</td>\n",
              "      <td>nein</td>\n",
              "      <td>2016-03-26 00:00:00</td>\n",
              "      <td>35394</td>\n",
              "      <td>2016-04-06 20:15:37</td>\n",
              "    </tr>\n",
              "    <tr>\n",
              "      <th>3</th>\n",
              "      <td>2016-03-12 16:58:10</td>\n",
              "      <td>Smart_smart_fortwo_coupe_softouch/F1/Klima/Pan...</td>\n",
              "      <td>$4,350</td>\n",
              "      <td>control</td>\n",
              "      <td>kleinwagen</td>\n",
              "      <td>2007</td>\n",
              "      <td>automatik</td>\n",
              "      <td>71</td>\n",
              "      <td>fortwo</td>\n",
              "      <td>70,000km</td>\n",
              "      <td>6</td>\n",
              "      <td>benzin</td>\n",
              "      <td>smart</td>\n",
              "      <td>nein</td>\n",
              "      <td>2016-03-12 00:00:00</td>\n",
              "      <td>33729</td>\n",
              "      <td>2016-03-15 03:16:28</td>\n",
              "    </tr>\n",
              "    <tr>\n",
              "      <th>4</th>\n",
              "      <td>2016-04-01 14:38:50</td>\n",
              "      <td>Ford_Focus_1_6_Benzin_TÜV_neu_ist_sehr_gepfleg...</td>\n",
              "      <td>$1,350</td>\n",
              "      <td>test</td>\n",
              "      <td>kombi</td>\n",
              "      <td>2003</td>\n",
              "      <td>manuell</td>\n",
              "      <td>0</td>\n",
              "      <td>focus</td>\n",
              "      <td>150,000km</td>\n",
              "      <td>7</td>\n",
              "      <td>benzin</td>\n",
              "      <td>ford</td>\n",
              "      <td>nein</td>\n",
              "      <td>2016-04-01 00:00:00</td>\n",
              "      <td>39218</td>\n",
              "      <td>2016-04-01 14:38:50</td>\n",
              "    </tr>\n",
              "  </tbody>\n",
              "</table>\n",
              "</div>"
            ],
            "text/plain": [
              "          date_crawled  ...            last_seen\n",
              "0  2016-03-26 17:47:46  ...  2016-04-06 06:45:54\n",
              "1  2016-04-04 13:38:56  ...  2016-04-06 14:45:08\n",
              "2  2016-03-26 18:57:24  ...  2016-04-06 20:15:37\n",
              "3  2016-03-12 16:58:10  ...  2016-03-15 03:16:28\n",
              "4  2016-04-01 14:38:50  ...  2016-04-01 14:38:50\n",
              "\n",
              "[5 rows x 17 columns]"
            ]
          },
          "metadata": {
            "tags": []
          },
          "execution_count": 12
        }
      ]
    },
    {
      "cell_type": "markdown",
      "metadata": {
        "id": "_rztrDR3I2Ic"
      },
      "source": [
        "Moreover, `price` and `odometer` columns are stored as text since their values are numbers concatenated with some special characters. \n",
        "We need to remove those special characters, and convert this columns into numeric ones."
      ]
    },
    {
      "cell_type": "markdown",
      "metadata": {
        "id": "1jHKVzCrJ_Ea"
      },
      "source": [
        "1. Converting `price` column from text to numeric\n"
      ]
    },
    {
      "cell_type": "code",
      "metadata": {
        "colab": {
          "base_uri": "https://localhost:8080/"
        },
        "id": "Y7vb7OE6H5_o",
        "outputId": "07db99ff-63d8-416c-9122-6b90910307e2"
      },
      "source": [
        "#find what to remove\n",
        "autos[\"price\"].value_counts()"
      ],
      "execution_count": 13,
      "outputs": [
        {
          "output_type": "execute_result",
          "data": {
            "text/plain": [
              "$0          1421\n",
              "$500         781\n",
              "$1,500       734\n",
              "$2,500       643\n",
              "$1,200       639\n",
              "            ... \n",
              "$12,333        1\n",
              "$13,399        1\n",
              "$2,195         1\n",
              "$6,545         1\n",
              "$139,997       1\n",
              "Name: price, Length: 2357, dtype: int64"
            ]
          },
          "metadata": {
            "tags": []
          },
          "execution_count": 13
        }
      ]
    },
    {
      "cell_type": "code",
      "metadata": {
        "colab": {
          "base_uri": "https://localhost:8080/"
        },
        "id": "EMKArEPYKPT6",
        "outputId": "461ece82-ea58-4511-f6be-b41c574f3001"
      },
      "source": [
        "autos[\"price\"] = (autos[\"price\"]\n",
        "                  .str.replace(\"$\", \"\")\n",
        "                  .str.replace(\",\", \"\")\n",
        "                  .astype(int) \n",
        "                  )\n",
        "autos[\"price\"].head()"
      ],
      "execution_count": 14,
      "outputs": [
        {
          "output_type": "execute_result",
          "data": {
            "text/plain": [
              "0    5000\n",
              "1    8500\n",
              "2    8990\n",
              "3    4350\n",
              "4    1350\n",
              "Name: price, dtype: int64"
            ]
          },
          "metadata": {
            "tags": []
          },
          "execution_count": 14
        }
      ]
    },
    {
      "cell_type": "markdown",
      "metadata": {
        "id": "kq8utL0JK2nK"
      },
      "source": [
        "2. Converting `odometer` from text to numeric."
      ]
    },
    {
      "cell_type": "code",
      "metadata": {
        "colab": {
          "base_uri": "https://localhost:8080/"
        },
        "id": "Y1FvsEnPK0WU",
        "outputId": "344b1f46-e247-42a9-9636-113c4c7bcfc5"
      },
      "source": [
        "#find what to remove\n",
        "autos[\"odometer\"].value_counts()"
      ],
      "execution_count": 15,
      "outputs": [
        {
          "output_type": "execute_result",
          "data": {
            "text/plain": [
              "150,000km    32424\n",
              "125,000km     5170\n",
              "100,000km     2169\n",
              "90,000km      1757\n",
              "80,000km      1436\n",
              "70,000km      1230\n",
              "60,000km      1164\n",
              "50,000km      1027\n",
              "5,000km        967\n",
              "40,000km       819\n",
              "30,000km       789\n",
              "20,000km       784\n",
              "10,000km       264\n",
              "Name: odometer, dtype: int64"
            ]
          },
          "metadata": {
            "tags": []
          },
          "execution_count": 15
        }
      ]
    },
    {
      "cell_type": "code",
      "metadata": {
        "colab": {
          "base_uri": "https://localhost:8080/"
        },
        "id": "2lZ9kXjkLCTZ",
        "outputId": "652838e0-56f3-44f6-d156-b35079b412b9"
      },
      "source": [
        "autos[\"odometer\"] = (autos[\"odometer\"]\n",
        "                     .str.replace(\",\", \"\")\n",
        "                     .str.replace(\"km\",\"\")\n",
        "                     .astype(int)\n",
        "                     )\n",
        "autos[\"odometer\"].head()"
      ],
      "execution_count": 16,
      "outputs": [
        {
          "output_type": "execute_result",
          "data": {
            "text/plain": [
              "0    150000\n",
              "1    150000\n",
              "2     70000\n",
              "3     70000\n",
              "4    150000\n",
              "Name: odometer, dtype: int64"
            ]
          },
          "metadata": {
            "tags": []
          },
          "execution_count": 16
        }
      ]
    },
    {
      "cell_type": "markdown",
      "metadata": {
        "id": "mZfCxGPiMbEr"
      },
      "source": [
        "let's rename the `odometer` column to `odometer_km` to make it look more descriptive."
      ]
    },
    {
      "cell_type": "code",
      "metadata": {
        "colab": {
          "base_uri": "https://localhost:8080/"
        },
        "id": "-bTqMcuvL4bY",
        "outputId": "d3d71584-5f5a-4a71-bb00-2952a08a8ab2"
      },
      "source": [
        "autos.rename(columns={\"odometer\":\"odometer_km\"}, inplace=True)\n",
        "autos[\"odometer_km\"].head()"
      ],
      "execution_count": 17,
      "outputs": [
        {
          "output_type": "execute_result",
          "data": {
            "text/plain": [
              "0    150000\n",
              "1    150000\n",
              "2     70000\n",
              "3     70000\n",
              "4    150000\n",
              "Name: odometer_km, dtype: int64"
            ]
          },
          "metadata": {
            "tags": []
          },
          "execution_count": 17
        }
      ]
    },
    {
      "cell_type": "markdown",
      "metadata": {
        "id": "aZud_7-dRTbT"
      },
      "source": [
        "# Exploring `odometer` and `price` columns"
      ]
    },
    {
      "cell_type": "code",
      "metadata": {
        "colab": {
          "base_uri": "https://localhost:8080/",
          "height": 312
        },
        "id": "uepKvUhVanCu",
        "outputId": "76c56e7a-a5b9-4a8b-a6fd-442c3c5430ba"
      },
      "source": [
        "print(\"Unique Odometer Readings:\", autos[\"odometer_km\"].unique().shape[0])\n",
        "autos[[\"odometer_km\"]].describe()"
      ],
      "execution_count": 18,
      "outputs": [
        {
          "output_type": "stream",
          "text": [
            "Unique Odometer Readings: 13\n"
          ],
          "name": "stdout"
        },
        {
          "output_type": "execute_result",
          "data": {
            "text/html": [
              "<div>\n",
              "<style scoped>\n",
              "    .dataframe tbody tr th:only-of-type {\n",
              "        vertical-align: middle;\n",
              "    }\n",
              "\n",
              "    .dataframe tbody tr th {\n",
              "        vertical-align: top;\n",
              "    }\n",
              "\n",
              "    .dataframe thead th {\n",
              "        text-align: right;\n",
              "    }\n",
              "</style>\n",
              "<table border=\"1\" class=\"dataframe\">\n",
              "  <thead>\n",
              "    <tr style=\"text-align: right;\">\n",
              "      <th></th>\n",
              "      <th>odometer_km</th>\n",
              "    </tr>\n",
              "  </thead>\n",
              "  <tbody>\n",
              "    <tr>\n",
              "      <th>count</th>\n",
              "      <td>50000.000000</td>\n",
              "    </tr>\n",
              "    <tr>\n",
              "      <th>mean</th>\n",
              "      <td>125732.700000</td>\n",
              "    </tr>\n",
              "    <tr>\n",
              "      <th>std</th>\n",
              "      <td>40042.211706</td>\n",
              "    </tr>\n",
              "    <tr>\n",
              "      <th>min</th>\n",
              "      <td>5000.000000</td>\n",
              "    </tr>\n",
              "    <tr>\n",
              "      <th>25%</th>\n",
              "      <td>125000.000000</td>\n",
              "    </tr>\n",
              "    <tr>\n",
              "      <th>50%</th>\n",
              "      <td>150000.000000</td>\n",
              "    </tr>\n",
              "    <tr>\n",
              "      <th>75%</th>\n",
              "      <td>150000.000000</td>\n",
              "    </tr>\n",
              "    <tr>\n",
              "      <th>max</th>\n",
              "      <td>150000.000000</td>\n",
              "    </tr>\n",
              "  </tbody>\n",
              "</table>\n",
              "</div>"
            ],
            "text/plain": [
              "         odometer_km\n",
              "count   50000.000000\n",
              "mean   125732.700000\n",
              "std     40042.211706\n",
              "min      5000.000000\n",
              "25%    125000.000000\n",
              "50%    150000.000000\n",
              "75%    150000.000000\n",
              "max    150000.000000"
            ]
          },
          "metadata": {
            "tags": []
          },
          "execution_count": 18
        }
      ]
    },
    {
      "cell_type": "code",
      "metadata": {
        "colab": {
          "base_uri": "https://localhost:8080/"
        },
        "id": "0LYkx2y4bJpk",
        "outputId": "cf6fee1f-1490-4518-f463-4c8d7e8f7da3"
      },
      "source": [
        "autos[\"odometer_km\"].value_counts()"
      ],
      "execution_count": 19,
      "outputs": [
        {
          "output_type": "execute_result",
          "data": {
            "text/plain": [
              "150000    32424\n",
              "125000     5170\n",
              "100000     2169\n",
              "90000      1757\n",
              "80000      1436\n",
              "70000      1230\n",
              "60000      1164\n",
              "50000      1027\n",
              "5000        967\n",
              "40000       819\n",
              "30000       789\n",
              "20000       784\n",
              "10000       264\n",
              "Name: odometer_km, dtype: int64"
            ]
          },
          "metadata": {
            "tags": []
          },
          "execution_count": 19
        }
      ]
    },
    {
      "cell_type": "markdown",
      "metadata": {
        "id": "R51hWWaIcjKa"
      },
      "source": [
        "Observations:\n",
        "- The values are rounded, it means the seller had to choose from pre-set options for this field. Moreover, there are more vehicles with high mileage."
      ]
    },
    {
      "cell_type": "code",
      "metadata": {
        "colab": {
          "base_uri": "https://localhost:8080/",
          "height": 312
        },
        "id": "9vn5fsiuffAd",
        "outputId": "883c61c1-98b7-4772-adbc-6b3e5e66dda5"
      },
      "source": [
        "print(\"Unique prices: \", autos[\"price\"].unique().shape[0])\n",
        "autos[[\"price\"]].describe()"
      ],
      "execution_count": 20,
      "outputs": [
        {
          "output_type": "stream",
          "text": [
            "Unique prices:  2357\n"
          ],
          "name": "stdout"
        },
        {
          "output_type": "execute_result",
          "data": {
            "text/html": [
              "<div>\n",
              "<style scoped>\n",
              "    .dataframe tbody tr th:only-of-type {\n",
              "        vertical-align: middle;\n",
              "    }\n",
              "\n",
              "    .dataframe tbody tr th {\n",
              "        vertical-align: top;\n",
              "    }\n",
              "\n",
              "    .dataframe thead th {\n",
              "        text-align: right;\n",
              "    }\n",
              "</style>\n",
              "<table border=\"1\" class=\"dataframe\">\n",
              "  <thead>\n",
              "    <tr style=\"text-align: right;\">\n",
              "      <th></th>\n",
              "      <th>price</th>\n",
              "    </tr>\n",
              "  </thead>\n",
              "  <tbody>\n",
              "    <tr>\n",
              "      <th>count</th>\n",
              "      <td>5.000000e+04</td>\n",
              "    </tr>\n",
              "    <tr>\n",
              "      <th>mean</th>\n",
              "      <td>9.840044e+03</td>\n",
              "    </tr>\n",
              "    <tr>\n",
              "      <th>std</th>\n",
              "      <td>4.811044e+05</td>\n",
              "    </tr>\n",
              "    <tr>\n",
              "      <th>min</th>\n",
              "      <td>0.000000e+00</td>\n",
              "    </tr>\n",
              "    <tr>\n",
              "      <th>25%</th>\n",
              "      <td>1.100000e+03</td>\n",
              "    </tr>\n",
              "    <tr>\n",
              "      <th>50%</th>\n",
              "      <td>2.950000e+03</td>\n",
              "    </tr>\n",
              "    <tr>\n",
              "      <th>75%</th>\n",
              "      <td>7.200000e+03</td>\n",
              "    </tr>\n",
              "    <tr>\n",
              "      <th>max</th>\n",
              "      <td>1.000000e+08</td>\n",
              "    </tr>\n",
              "  </tbody>\n",
              "</table>\n",
              "</div>"
            ],
            "text/plain": [
              "              price\n",
              "count  5.000000e+04\n",
              "mean   9.840044e+03\n",
              "std    4.811044e+05\n",
              "min    0.000000e+00\n",
              "25%    1.100000e+03\n",
              "50%    2.950000e+03\n",
              "75%    7.200000e+03\n",
              "max    1.000000e+08"
            ]
          },
          "metadata": {
            "tags": []
          },
          "execution_count": 20
        }
      ]
    },
    {
      "cell_type": "code",
      "metadata": {
        "colab": {
          "base_uri": "https://localhost:8080/"
        },
        "id": "lSSSqTKYblZ5",
        "outputId": "47551f16-7238-465d-e524-0e6f94b6ab97"
      },
      "source": [
        "#top prices\n",
        "autos[\"price\"].value_counts().sort_index(ascending=False).head(15)"
      ],
      "execution_count": 21,
      "outputs": [
        {
          "output_type": "execute_result",
          "data": {
            "text/plain": [
              "99999999    1\n",
              "27322222    1\n",
              "12345678    3\n",
              "11111111    2\n",
              "10000000    1\n",
              "3890000     1\n",
              "1300000     1\n",
              "1234566     1\n",
              "999999      2\n",
              "999990      1\n",
              "350000      1\n",
              "345000      1\n",
              "299000      1\n",
              "295000      1\n",
              "265000      1\n",
              "Name: price, dtype: int64"
            ]
          },
          "metadata": {
            "tags": []
          },
          "execution_count": 21
        }
      ]
    },
    {
      "cell_type": "markdown",
      "metadata": {
        "id": "DLqRVljmFFC0"
      },
      "source": [
        "- Some of the cars are really heavily priced. Some of them are even priced over $\\$1$ million.\n",
        " <!-- Although cars can be priced over $\\$1$ million but these are special cars and it is less likely that such cars will be on sites like ebay. [Ref](https://financesonline.com/10-most-expensive-items-ever-sold-on-ebay-top-spot-bought-for-168m/) -->\n"
      ]
    },
    {
      "cell_type": "code",
      "metadata": {
        "id": "mrBdWnduDd9f",
        "colab": {
          "base_uri": "https://localhost:8080/"
        },
        "outputId": "196ebd4f-1ab5-403b-f41b-b4c20f3414bd"
      },
      "source": [
        "#least prices\n",
        "autos[\"price\"].value_counts().sort_index().head(15)"
      ],
      "execution_count": 22,
      "outputs": [
        {
          "output_type": "execute_result",
          "data": {
            "text/plain": [
              "0     1421\n",
              "1      156\n",
              "2        3\n",
              "3        1\n",
              "5        2\n",
              "8        1\n",
              "9        1\n",
              "10       7\n",
              "11       2\n",
              "12       3\n",
              "13       2\n",
              "14       1\n",
              "15       2\n",
              "17       3\n",
              "18       1\n",
              "Name: price, dtype: int64"
            ]
          },
          "metadata": {
            "tags": []
          },
          "execution_count": 22
        }
      ]
    },
    {
      "cell_type": "markdown",
      "metadata": {
        "id": "7EvlZ0FvEs_V"
      },
      "source": [
        "- There are **1421** entries of cars with a price tag of $\\$0$ which is obviously not valid. And since ebay is an auction site, it completely legitimate to have items starting at $\\$1$.\n",
        "\n",
        "- We will drop all the cars prices less than $\\$0$ and more than $\\$350,000$ because it seems prices after that is increasing very fast.\n",
        "\n",
        "    - $345000 \\rightarrow 350,000 \\rightarrow 999990$ \n"
      ]
    },
    {
      "cell_type": "code",
      "metadata": {
        "colab": {
          "base_uri": "https://localhost:8080/"
        },
        "id": "DXRd7Rv8NVsS",
        "outputId": "e61d98b7-8733-44fa-b955-0062932373d0"
      },
      "source": [
        "#including prices in range[1, 350000]\n",
        "autos= autos[autos[\"price\"].between(1, 350000)]\n",
        "#confirming the change\n",
        "autos[\"price\"].describe()"
      ],
      "execution_count": 23,
      "outputs": [
        {
          "output_type": "execute_result",
          "data": {
            "text/plain": [
              "count     48565.000000\n",
              "mean       5888.935591\n",
              "std        9059.854754\n",
              "min           1.000000\n",
              "25%        1200.000000\n",
              "50%        3000.000000\n",
              "75%        7490.000000\n",
              "max      350000.000000\n",
              "Name: price, dtype: float64"
            ]
          },
          "metadata": {
            "tags": []
          },
          "execution_count": 23
        }
      ]
    },
    {
      "cell_type": "markdown",
      "metadata": {
        "id": "wpkjzDa3QJPR"
      },
      "source": [
        "# Exploring Date Columns\n",
        "\n",
        "Following are the date columns,\n",
        "\n",
        "- `date_crawled`\n",
        "- `registration_year`\n",
        "- `registration_month`\n",
        "- `ad_created`\n",
        "- `last_seen`\n",
        "\n",
        "`registration_year` and `registration_month` are stored as **numeric** values\n",
        "\n",
        "`date_crawled`, `ad_created` and `last_seen` are stored as **string** values."
      ]
    },
    {
      "cell_type": "code",
      "metadata": {
        "colab": {
          "base_uri": "https://localhost:8080/",
          "height": 202
        },
        "id": "Go_Hg5ThQOj4",
        "outputId": "128145c0-f493-415c-cc37-0133f93227f1"
      },
      "source": [
        "#columns which should be treated as date\n",
        "date_cols = {\"strings\": [\"date_crawled\", \"ad_created\",\"last_seen\"],\n",
        "             \"numeric\":[\"registration_year\",\"registration_month\"]\n",
        "             }\n",
        "\n",
        "#getting sense of how date is stored as strings\n",
        "autos[date_cols[\"strings\"]][0:5]"
      ],
      "execution_count": 24,
      "outputs": [
        {
          "output_type": "execute_result",
          "data": {
            "text/html": [
              "<div>\n",
              "<style scoped>\n",
              "    .dataframe tbody tr th:only-of-type {\n",
              "        vertical-align: middle;\n",
              "    }\n",
              "\n",
              "    .dataframe tbody tr th {\n",
              "        vertical-align: top;\n",
              "    }\n",
              "\n",
              "    .dataframe thead th {\n",
              "        text-align: right;\n",
              "    }\n",
              "</style>\n",
              "<table border=\"1\" class=\"dataframe\">\n",
              "  <thead>\n",
              "    <tr style=\"text-align: right;\">\n",
              "      <th></th>\n",
              "      <th>date_crawled</th>\n",
              "      <th>ad_created</th>\n",
              "      <th>last_seen</th>\n",
              "    </tr>\n",
              "  </thead>\n",
              "  <tbody>\n",
              "    <tr>\n",
              "      <th>0</th>\n",
              "      <td>2016-03-26 17:47:46</td>\n",
              "      <td>2016-03-26 00:00:00</td>\n",
              "      <td>2016-04-06 06:45:54</td>\n",
              "    </tr>\n",
              "    <tr>\n",
              "      <th>1</th>\n",
              "      <td>2016-04-04 13:38:56</td>\n",
              "      <td>2016-04-04 00:00:00</td>\n",
              "      <td>2016-04-06 14:45:08</td>\n",
              "    </tr>\n",
              "    <tr>\n",
              "      <th>2</th>\n",
              "      <td>2016-03-26 18:57:24</td>\n",
              "      <td>2016-03-26 00:00:00</td>\n",
              "      <td>2016-04-06 20:15:37</td>\n",
              "    </tr>\n",
              "    <tr>\n",
              "      <th>3</th>\n",
              "      <td>2016-03-12 16:58:10</td>\n",
              "      <td>2016-03-12 00:00:00</td>\n",
              "      <td>2016-03-15 03:16:28</td>\n",
              "    </tr>\n",
              "    <tr>\n",
              "      <th>4</th>\n",
              "      <td>2016-04-01 14:38:50</td>\n",
              "      <td>2016-04-01 00:00:00</td>\n",
              "      <td>2016-04-01 14:38:50</td>\n",
              "    </tr>\n",
              "  </tbody>\n",
              "</table>\n",
              "</div>"
            ],
            "text/plain": [
              "          date_crawled           ad_created            last_seen\n",
              "0  2016-03-26 17:47:46  2016-03-26 00:00:00  2016-04-06 06:45:54\n",
              "1  2016-04-04 13:38:56  2016-04-04 00:00:00  2016-04-06 14:45:08\n",
              "2  2016-03-26 18:57:24  2016-03-26 00:00:00  2016-04-06 20:15:37\n",
              "3  2016-03-12 16:58:10  2016-03-12 00:00:00  2016-03-15 03:16:28\n",
              "4  2016-04-01 14:38:50  2016-04-01 00:00:00  2016-04-01 14:38:50"
            ]
          },
          "metadata": {
            "tags": []
          },
          "execution_count": 24
        }
      ]
    },
    {
      "cell_type": "markdown",
      "metadata": {
        "id": "NTVs3dLWkoeO"
      },
      "source": [
        "- It seems like dates in these columns are stored in following format, **YYYY-MM-DD HH:MM:SS**"
      ]
    },
    {
      "cell_type": "code",
      "metadata": {
        "id": "DjwsjOdJOpO8",
        "colab": {
          "base_uri": "https://localhost:8080/"
        },
        "outputId": "ce79b176-5b9f-4b7b-af59-543a33627b34"
      },
      "source": [
        "#percentage distribution of date_crawled\n",
        "print(\"Unique Entries:\", autos[\"date_crawled\"].str[:10].unique().shape[0])\n",
        "(autos[\"date_crawled\"]\n",
        " .str[:10]\n",
        " .value_counts(normalize=True, dropna=False)\n",
        " .sort_index()\n",
        ")*100"
      ],
      "execution_count": 25,
      "outputs": [
        {
          "output_type": "stream",
          "text": [
            "Unique Entries: 34\n"
          ],
          "name": "stdout"
        },
        {
          "output_type": "execute_result",
          "data": {
            "text/plain": [
              "2016-03-05    2.532688\n",
              "2016-03-06    1.404304\n",
              "2016-03-07    3.601359\n",
              "2016-03-08    3.329558\n",
              "2016-03-09    3.308967\n",
              "2016-03-10    3.218367\n",
              "2016-03-11    3.257490\n",
              "2016-03-12    3.691959\n",
              "2016-03-13    1.566972\n",
              "2016-03-14    3.654896\n",
              "2016-03-15    3.428395\n",
              "2016-03-16    2.960980\n",
              "2016-03-17    3.162772\n",
              "2016-03-18    1.291053\n",
              "2016-03-19    3.477813\n",
              "2016-03-20    3.788737\n",
              "2016-03-21    3.737259\n",
              "2016-03-22    3.298672\n",
              "2016-03-23    3.222485\n",
              "2016-03-24    2.934212\n",
              "2016-03-25    3.160712\n",
              "2016-03-26    3.220426\n",
              "2016-03-27    3.109235\n",
              "2016-03-28    3.486050\n",
              "2016-03-29    3.409863\n",
              "2016-03-30    3.368681\n",
              "2016-03-31    3.183363\n",
              "2016-04-01    3.368681\n",
              "2016-04-02    3.547823\n",
              "2016-04-03    3.860805\n",
              "2016-04-04    3.648718\n",
              "2016-04-05    1.309585\n",
              "2016-04-06    0.317101\n",
              "2016-04-07    0.140019\n",
              "Name: date_crawled, dtype: float64"
            ]
          },
          "metadata": {
            "tags": []
          },
          "execution_count": 25
        }
      ]
    },
    {
      "cell_type": "markdown",
      "metadata": {
        "id": "h-ip7FoTow_n"
      },
      "source": [
        "- We can see that the site was crawled almost everyday in one month period in $March$ and $April$ of year $2016$ by the crawler.\n",
        "\n",
        "- Also the distribution is fairly uniform."
      ]
    },
    {
      "cell_type": "code",
      "metadata": {
        "colab": {
          "base_uri": "https://localhost:8080/"
        },
        "id": "fgLAnIIFsogA",
        "outputId": "afddfdb7-0d80-490e-aa67-fa985138e72f"
      },
      "source": [
        "#percentage distribution of last_seen: The ad was removed after this date\n",
        "#presumably because the car was sold\n",
        "print(\"Unique Entries:\", autos[\"last_seen\"].str[:10].unique().shape[0])\n",
        "(autos[\"last_seen\"]\n",
        " .str[:10]\n",
        " .value_counts(normalize=True, dropna=False)\n",
        " .sort_index()\n",
        ")*100"
      ],
      "execution_count": 26,
      "outputs": [
        {
          "output_type": "stream",
          "text": [
            "Unique Entries: 34\n"
          ],
          "name": "stdout"
        },
        {
          "output_type": "execute_result",
          "data": {
            "text/plain": [
              "2016-03-05     0.107073\n",
              "2016-03-06     0.432410\n",
              "2016-03-07     0.539483\n",
              "2016-03-08     0.741275\n",
              "2016-03-09     0.959539\n",
              "2016-03-10     1.066612\n",
              "2016-03-11     1.237517\n",
              "2016-03-12     2.378256\n",
              "2016-03-13     0.889529\n",
              "2016-03-14     1.260167\n",
              "2016-03-15     1.587563\n",
              "2016-03-16     1.645218\n",
              "2016-03-17     2.808607\n",
              "2016-03-18     0.735097\n",
              "2016-03-19     1.583445\n",
              "2016-03-20     2.065273\n",
              "2016-03-21     2.063214\n",
              "2016-03-22     2.137342\n",
              "2016-03-23     1.853186\n",
              "2016-03-24     1.976732\n",
              "2016-03-25     1.921137\n",
              "2016-03-26     1.680222\n",
              "2016-03-27     1.564913\n",
              "2016-03-28     2.085864\n",
              "2016-03-29     2.234119\n",
              "2016-03-30     2.477093\n",
              "2016-03-31     2.378256\n",
              "2016-04-01     2.279419\n",
              "2016-04-02     2.491506\n",
              "2016-04-03     2.520334\n",
              "2016-04-04     2.448265\n",
              "2016-04-05    12.476063\n",
              "2016-04-06    22.180583\n",
              "2016-04-07    13.194688\n",
              "Name: last_seen, dtype: float64"
            ]
          },
          "metadata": {
            "tags": []
          },
          "execution_count": 26
        }
      ]
    },
    {
      "cell_type": "markdown",
      "metadata": {
        "id": "t_rH-jpO14nP"
      },
      "source": [
        "The last three days contain a disproportionate amount of `last_seen` values. Given that these are **6-10 times** the values from the previous days, it's unlikely that there was a massive spike in sales, and more likely that these values are to do with the crawling period ending and don't indicate car sales.\n",
        "\n",
        "Note: It is not possible for the crawler to see all the ads everyday!"
      ]
    },
    {
      "cell_type": "code",
      "metadata": {
        "id": "SuO1jzBoQMGg",
        "colab": {
          "base_uri": "https://localhost:8080/"
        },
        "outputId": "9e2bdbf7-ab0b-4071-f88d-b9b3f6307cb5"
      },
      "source": [
        "#percentage distribution of ad_created\n",
        "print(\"Unique Entries:\", autos[\"ad_created\"].str[:10].unique().shape[0])\n",
        "(autos[\"ad_created\"]\n",
        " .str[:10]\n",
        " .value_counts(normalize=True, dropna=False)\n",
        " .sort_index()\n",
        ")*100"
      ],
      "execution_count": 27,
      "outputs": [
        {
          "output_type": "stream",
          "text": [
            "Unique Entries: 76\n"
          ],
          "name": "stdout"
        },
        {
          "output_type": "execute_result",
          "data": {
            "text/plain": [
              "2015-06-11    0.002059\n",
              "2015-08-10    0.002059\n",
              "2015-09-09    0.002059\n",
              "2015-11-10    0.002059\n",
              "2015-12-05    0.002059\n",
              "                ...   \n",
              "2016-04-03    3.885514\n",
              "2016-04-04    3.685782\n",
              "2016-04-05    1.181921\n",
              "2016-04-06    0.325337\n",
              "2016-04-07    0.125605\n",
              "Name: ad_created, Length: 76, dtype: float64"
            ]
          },
          "metadata": {
            "tags": []
          },
          "execution_count": 27
        }
      ]
    },
    {
      "cell_type": "code",
      "metadata": {
        "id": "QEVUYb0xQMKP",
        "colab": {
          "base_uri": "https://localhost:8080/"
        },
        "outputId": "324278cf-cadd-48a5-cf33-81f36e8cfa4e"
      },
      "source": [
        "(autos[\"ad_created\"]\n",
        " .str[:10]\n",
        " .value_counts(normalize=True, dropna=False)\n",
        " .sort_index()\n",
        ")*100"
      ],
      "execution_count": 28,
      "outputs": [
        {
          "output_type": "execute_result",
          "data": {
            "text/plain": [
              "2015-06-11    0.002059\n",
              "2015-08-10    0.002059\n",
              "2015-09-09    0.002059\n",
              "2015-11-10    0.002059\n",
              "2015-12-05    0.002059\n",
              "                ...   \n",
              "2016-04-03    3.885514\n",
              "2016-04-04    3.685782\n",
              "2016-04-05    1.181921\n",
              "2016-04-06    0.325337\n",
              "2016-04-07    0.125605\n",
              "Name: ad_created, Length: 76, dtype: float64"
            ]
          },
          "metadata": {
            "tags": []
          },
          "execution_count": 28
        }
      ]
    },
    {
      "cell_type": "code",
      "metadata": {
        "colab": {
          "base_uri": "https://localhost:8080/"
        },
        "id": "1Q5qjCM2qg0n",
        "outputId": "f0f015d9-ae6f-4941-9bb3-0413d6d33f85"
      },
      "source": [
        "#distribution of registration_year\n",
        "autos[\"registration_year\"].describe()"
      ],
      "execution_count": 29,
      "outputs": [
        {
          "output_type": "execute_result",
          "data": {
            "text/plain": [
              "count    48565.000000\n",
              "mean      2004.755421\n",
              "std         88.643887\n",
              "min       1000.000000\n",
              "25%       1999.000000\n",
              "50%       2004.000000\n",
              "75%       2008.000000\n",
              "max       9999.000000\n",
              "Name: registration_year, dtype: float64"
            ]
          },
          "metadata": {
            "tags": []
          },
          "execution_count": 29
        }
      ]
    },
    {
      "cell_type": "markdown",
      "metadata": {
        "id": "P_5qDJxOZElW"
      },
      "source": [
        "- `registration_year`'s minimum value is **1000** (way before cars were invented) and maximum value is **9999** (many years into the future) which is not possible."
      ]
    },
    {
      "cell_type": "markdown",
      "metadata": {
        "id": "HpInQCr0dxMJ"
      },
      "source": [
        "# Dealing with Incorrect `registration_year` Data\n",
        "\n",
        "The automobile was first invented and perfected in Germany and France in the late 1800s. [ref](https://www.history.com/topics/inventions/automobiles)\n",
        "\n",
        "So Realistically all the `registration_year` values less than $1800$ are not possible. Moreover, the crawler crawled the site in $2016$ so the values after $2016$ are also not possible.\n",
        "\n",
        "Let's see how many percentage of values are not in the realistic range of $[1800, 2016]$ and if we can drop them."
      ]
    },
    {
      "cell_type": "code",
      "metadata": {
        "colab": {
          "base_uri": "https://localhost:8080/"
        },
        "id": "UpVN5zeyYuXl",
        "outputId": "9f32a5f5-c75c-4dbe-c4e9-a4dcf5aaf971"
      },
      "source": [
        "np.logical_not(autos[\"registration_year\"].between(1800, 2016)).sum()/autos.shape[0] * 100"
      ],
      "execution_count": 30,
      "outputs": [
        {
          "output_type": "execute_result",
          "data": {
            "text/plain": [
              "3.875218778956038"
            ]
          },
          "metadata": {
            "tags": []
          },
          "execution_count": 30
        }
      ]
    },
    {
      "cell_type": "markdown",
      "metadata": {
        "id": "4XljNHhMQgvT"
      },
      "source": [
        "- There are ~4% of non-realistic values so we'll happily drop them."
      ]
    },
    {
      "cell_type": "code",
      "metadata": {
        "id": "Ljf9pJiMewKv",
        "colab": {
          "base_uri": "https://localhost:8080/"
        },
        "outputId": "2065d1e9-56a3-4e80-9a90-3c0b80e1c48d"
      },
      "source": [
        "#keep only entries whose `registration_year` is in realistic range\n",
        "autos = autos.loc[autos[\"registration_year\"].between(1800, 2016)]\n",
        "#check if column was updated\n",
        "autos[\"registration_year\"].describe()"
      ],
      "execution_count": 31,
      "outputs": [
        {
          "output_type": "execute_result",
          "data": {
            "text/plain": [
              "count    46683.000000\n",
              "mean      2002.902063\n",
              "std          7.306668\n",
              "min       1800.000000\n",
              "25%       1999.000000\n",
              "50%       2003.000000\n",
              "75%       2008.000000\n",
              "max       2016.000000\n",
              "Name: registration_year, dtype: float64"
            ]
          },
          "metadata": {
            "tags": []
          },
          "execution_count": 31
        }
      ]
    },
    {
      "cell_type": "code",
      "metadata": {
        "colab": {
          "base_uri": "https://localhost:8080/"
        },
        "id": "sxsmjIjDSsQG",
        "outputId": "b6abc82a-3556-46b6-9e06-df5e67cf9b9b"
      },
      "source": [
        "#distribution of modified `registration_year` col\n",
        "print(\"Unique Values:\", autos[\"registration_year\"].unique().shape[0])\n",
        "(autos[\"registration_year\"].value_counts(normalize=True, dropna=False)*100).head(20)"
      ],
      "execution_count": 32,
      "outputs": [
        {
          "output_type": "stream",
          "text": [
            "Unique Values: 79\n"
          ],
          "name": "stdout"
        },
        {
          "output_type": "execute_result",
          "data": {
            "text/plain": [
              "2000    6.760491\n",
              "2005    6.289227\n",
              "1999    6.205685\n",
              "2004    5.790116\n",
              "2003    5.781548\n",
              "2006    5.719427\n",
              "2001    5.646595\n",
              "2002    5.325279\n",
              "1998    5.061800\n",
              "2007    4.877579\n",
              "2008    4.744768\n",
              "2009    4.466294\n",
              "1997    4.179252\n",
              "2011    3.476640\n",
              "2010    3.403809\n",
              "1996    2.941113\n",
              "2012    2.806161\n",
              "1995    2.628366\n",
              "2016    2.613371\n",
              "2013    1.720112\n",
              "Name: registration_year, dtype: float64"
            ]
          },
          "metadata": {
            "tags": []
          },
          "execution_count": 32
        }
      ]
    },
    {
      "cell_type": "markdown",
      "metadata": {
        "id": "3AS7DjAcUqO8"
      },
      "source": [
        "It seems like majority of the vehicles were first registered in past $20-30$ years itself."
      ]
    },
    {
      "cell_type": "code",
      "metadata": {
        "colab": {
          "base_uri": "https://localhost:8080/"
        },
        "id": "pQfWScPPTdFm",
        "outputId": "6c43d0f7-03d8-41a0-b6a3-770ff203f71c"
      },
      "source": [
        "#how many % vehicles are in top 20\n",
        "(autos[\"registration_year\"].value_counts(normalize=True, dropna=False)*100).head(20).sum()"
      ],
      "execution_count": 33,
      "outputs": [
        {
          "output_type": "execute_result",
          "data": {
            "text/plain": [
              "90.4376325428957"
            ]
          },
          "metadata": {
            "tags": []
          },
          "execution_count": 33
        }
      ]
    },
    {
      "cell_type": "markdown",
      "metadata": {
        "id": "zdw9FVXNP-83"
      },
      "source": [
        "# Exploring Price By Brand\n"
      ]
    },
    {
      "cell_type": "code",
      "metadata": {
        "colab": {
          "base_uri": "https://localhost:8080/"
        },
        "id": "SOACoay4P6N7",
        "outputId": "7d111723-a64e-42fd-b72d-02cde4eb1376"
      },
      "source": [
        "#unique brands\n",
        "autos[\"brand\"].unique()"
      ],
      "execution_count": 34,
      "outputs": [
        {
          "output_type": "execute_result",
          "data": {
            "text/plain": [
              "array(['peugeot', 'bmw', 'volkswagen', 'smart', 'ford', 'chrysler',\n",
              "       'seat', 'renault', 'mercedes_benz', 'audi', 'sonstige_autos',\n",
              "       'opel', 'mazda', 'porsche', 'mini', 'toyota', 'dacia', 'nissan',\n",
              "       'jeep', 'saab', 'volvo', 'mitsubishi', 'jaguar', 'fiat', 'skoda',\n",
              "       'subaru', 'kia', 'citroen', 'chevrolet', 'hyundai', 'honda',\n",
              "       'daewoo', 'suzuki', 'trabant', 'land_rover', 'alfa_romeo', 'lada',\n",
              "       'rover', 'daihatsu', 'lancia'], dtype=object)"
            ]
          },
          "metadata": {
            "tags": []
          },
          "execution_count": 34
        }
      ]
    },
    {
      "cell_type": "code",
      "metadata": {
        "colab": {
          "base_uri": "https://localhost:8080/"
        },
        "id": "-A_wksujUO0P",
        "outputId": "0c2af685-b868-4285-83a1-d963e308c3ef"
      },
      "source": [
        "#percentage distribution of \"brand\"\n",
        "(autos[\"brand\"]\n",
        " .value_counts(normalize=True)\n",
        " .sort_values(ascending=False)*100)"
      ],
      "execution_count": 35,
      "outputs": [
        {
          "output_type": "execute_result",
          "data": {
            "text/plain": [
              "volkswagen        21.125463\n",
              "bmw               11.004006\n",
              "opel              10.757663\n",
              "mercedes_benz      9.645910\n",
              "audi               8.656256\n",
              "ford               6.989696\n",
              "renault            4.714778\n",
              "peugeot            2.983956\n",
              "fiat               2.564103\n",
              "seat               1.827218\n",
              "skoda              1.640854\n",
              "nissan             1.527323\n",
              "mazda              1.518754\n",
              "smart              1.415933\n",
              "citroen            1.400938\n",
              "toyota             1.270270\n",
              "hyundai            1.002506\n",
              "sonstige_autos     0.981085\n",
              "volvo              0.914680\n",
              "mini               0.876122\n",
              "mitsubishi         0.826853\n",
              "honda              0.784011\n",
              "kia                0.706895\n",
              "alfa_romeo         0.664053\n",
              "porsche            0.612643\n",
              "suzuki             0.593364\n",
              "chevrolet          0.569801\n",
              "chrysler           0.351306\n",
              "dacia              0.263479\n",
              "daihatsu           0.250627\n",
              "jeep               0.227063\n",
              "subaru             0.214211\n",
              "land_rover         0.209927\n",
              "saab               0.164942\n",
              "jaguar             0.156374\n",
              "daewoo             0.149948\n",
              "trabant            0.139237\n",
              "rover              0.132811\n",
              "lancia             0.107105\n",
              "lada               0.057837\n",
              "Name: brand, dtype: float64"
            ]
          },
          "metadata": {
            "tags": []
          },
          "execution_count": 35
        }
      ]
    },
    {
      "cell_type": "markdown",
      "metadata": {
        "id": "Toxok0UPWmeZ"
      },
      "source": [
        "- **Volkswagen** has by far the most listings followed by **BMW** and **Opel** . \n",
        "\n",
        "- It is evident that **German** manufacturers dominate the listings since top **five** spots are held by them.\n",
        "\n",
        "- Alot of brands don't have significant amount of listings. \n",
        "\n",
        "So we'll limit our analyis to brands that have more than $5\\%(2500)$ listings."
      ]
    },
    {
      "cell_type": "code",
      "metadata": {
        "colab": {
          "base_uri": "https://localhost:8080/"
        },
        "id": "bT5Zh_0OUjk-",
        "outputId": "7d23799d-9755-4d0c-89df-e9e00560da2e"
      },
      "source": [
        "brand_counts = (autos[\"brand\"]\n",
        "                 .value_counts(normalize=True)\n",
        "                 .sort_values(ascending=False)\n",
        "                 )\n",
        "common_brands = brand_counts[brand_counts.gt(0.05)].index\n",
        "print(common_brands)"
      ],
      "execution_count": 36,
      "outputs": [
        {
          "output_type": "stream",
          "text": [
            "Index(['volkswagen', 'bmw', 'opel', 'mercedes_benz', 'audi', 'ford'], dtype='object')\n"
          ],
          "name": "stdout"
        }
      ]
    },
    {
      "cell_type": "markdown",
      "metadata": {
        "id": "yhfnmLnXZ1dz"
      },
      "source": [
        "- Let's calculate **average** price by most common brand."
      ]
    },
    {
      "cell_type": "code",
      "metadata": {
        "colab": {
          "base_uri": "https://localhost:8080/"
        },
        "id": "7EJKi3TXZkKg",
        "outputId": "3e21b40d-c21e-4184-f123-c05118f8921c"
      },
      "source": [
        "#Using groupby\n",
        "autos.groupby(\"brand\")[\"price\"].mean().loc[common_brands].round()"
      ],
      "execution_count": 37,
      "outputs": [
        {
          "output_type": "execute_result",
          "data": {
            "text/plain": [
              "volkswagen       5402.0\n",
              "bmw              8333.0\n",
              "opel             2975.0\n",
              "mercedes_benz    8628.0\n",
              "audi             9337.0\n",
              "ford             3749.0\n",
              "Name: price, dtype: float64"
            ]
          },
          "metadata": {
            "tags": []
          },
          "execution_count": 37
        }
      ]
    },
    {
      "cell_type": "code",
      "metadata": {
        "colab": {
          "base_uri": "https://localhost:8080/"
        },
        "id": "xgOQ_XonaGnx",
        "outputId": "f575cc4d-77dd-4a64-e50c-11a6aab3450c"
      },
      "source": [
        "#using for loop\n",
        "brand_mean_prices = {}\n",
        "for brand in common_brands:\n",
        "    avg_price = autos.loc[autos[\"brand\"] == brand, \"price\"].mean()\n",
        "    brand_mean_prices[brand] = round(avg_price)\n",
        "\n",
        "brand_mean_prices"
      ],
      "execution_count": 38,
      "outputs": [
        {
          "output_type": "execute_result",
          "data": {
            "text/plain": [
              "{'audi': 9337,\n",
              " 'bmw': 8333,\n",
              " 'ford': 3749,\n",
              " 'mercedes_benz': 8628,\n",
              " 'opel': 2975,\n",
              " 'volkswagen': 5402}"
            ]
          },
          "metadata": {
            "tags": []
          },
          "execution_count": 38
        }
      ]
    },
    {
      "cell_type": "markdown",
      "metadata": {
        "id": "G027KhQYePll"
      },
      "source": [
        "- **audi**, **bmw**, **mercedes_benz** are more expensive while **opel** and **ford** are less expensive.\n",
        "- **volkswagen** lies in between. That might also explain the reason for its poplularity: it may give best of both worlds!"
      ]
    },
    {
      "cell_type": "markdown",
      "metadata": {
        "id": "4O9m_9REg0as"
      },
      "source": [
        "# Exploring Mileage\n",
        "Let's see if milege has anything to do with the average prices."
      ]
    },
    {
      "cell_type": "code",
      "metadata": {
        "colab": {
          "base_uri": "https://localhost:8080/",
          "height": 232
        },
        "id": "M7o9bVzZhW54",
        "outputId": "21e27bc5-6984-4a52-f286-6b2b8d2b5e91"
      },
      "source": [
        "#using groupby\n",
        "autos.groupby(\"brand\")[[\"price\", \"odometer_km\"]].mean().loc[common_brands].round()"
      ],
      "execution_count": 39,
      "outputs": [
        {
          "output_type": "execute_result",
          "data": {
            "text/html": [
              "<div>\n",
              "<style scoped>\n",
              "    .dataframe tbody tr th:only-of-type {\n",
              "        vertical-align: middle;\n",
              "    }\n",
              "\n",
              "    .dataframe tbody tr th {\n",
              "        vertical-align: top;\n",
              "    }\n",
              "\n",
              "    .dataframe thead th {\n",
              "        text-align: right;\n",
              "    }\n",
              "</style>\n",
              "<table border=\"1\" class=\"dataframe\">\n",
              "  <thead>\n",
              "    <tr style=\"text-align: right;\">\n",
              "      <th></th>\n",
              "      <th>price</th>\n",
              "      <th>odometer_km</th>\n",
              "    </tr>\n",
              "  </thead>\n",
              "  <tbody>\n",
              "    <tr>\n",
              "      <th>volkswagen</th>\n",
              "      <td>5402.0</td>\n",
              "      <td>128707.0</td>\n",
              "    </tr>\n",
              "    <tr>\n",
              "      <th>bmw</th>\n",
              "      <td>8333.0</td>\n",
              "      <td>132573.0</td>\n",
              "    </tr>\n",
              "    <tr>\n",
              "      <th>opel</th>\n",
              "      <td>2975.0</td>\n",
              "      <td>129310.0</td>\n",
              "    </tr>\n",
              "    <tr>\n",
              "      <th>mercedes_benz</th>\n",
              "      <td>8628.0</td>\n",
              "      <td>130788.0</td>\n",
              "    </tr>\n",
              "    <tr>\n",
              "      <th>audi</th>\n",
              "      <td>9337.0</td>\n",
              "      <td>129157.0</td>\n",
              "    </tr>\n",
              "    <tr>\n",
              "      <th>ford</th>\n",
              "      <td>3749.0</td>\n",
              "      <td>124266.0</td>\n",
              "    </tr>\n",
              "  </tbody>\n",
              "</table>\n",
              "</div>"
            ],
            "text/plain": [
              "                price  odometer_km\n",
              "volkswagen     5402.0     128707.0\n",
              "bmw            8333.0     132573.0\n",
              "opel           2975.0     129310.0\n",
              "mercedes_benz  8628.0     130788.0\n",
              "audi           9337.0     129157.0\n",
              "ford           3749.0     124266.0"
            ]
          },
          "metadata": {
            "tags": []
          },
          "execution_count": 39
        }
      ]
    },
    {
      "cell_type": "code",
      "metadata": {
        "colab": {
          "base_uri": "https://localhost:8080/"
        },
        "id": "r3I16-Bsd9P2",
        "outputId": "dd5bf421-784d-420e-e879-38d3ecb6c010"
      },
      "source": [
        "#using for loop\n",
        "brand_mean_mileage = {}\n",
        "for brand in common_brands:\n",
        "    avg_mileage = autos.loc[autos[\"brand\"] == brand, \"odometer_km\"].mean()\n",
        "    brand_mean_mileage[brand] = round(avg_mileage)\n",
        "\n",
        "brand_mean_mileage"
      ],
      "execution_count": 40,
      "outputs": [
        {
          "output_type": "execute_result",
          "data": {
            "text/plain": [
              "{'audi': 129157,\n",
              " 'bmw': 132573,\n",
              " 'ford': 124266,\n",
              " 'mercedes_benz': 130788,\n",
              " 'opel': 129310,\n",
              " 'volkswagen': 128707}"
            ]
          },
          "metadata": {
            "tags": []
          },
          "execution_count": 40
        }
      ]
    },
    {
      "cell_type": "code",
      "metadata": {
        "colab": {
          "base_uri": "https://localhost:8080/",
          "height": 232
        },
        "id": "FOt7c1gwjwKM",
        "outputId": "f4c8b0e2-74ee-4a3e-dcad-8ce302eff73e"
      },
      "source": [
        "brand_info = pd.DataFrame(data = {\"avg_price\":brand_mean_prices, \"avg_mileage\":brand_mean_mileage})\n",
        "brand_info"
      ],
      "execution_count": 44,
      "outputs": [
        {
          "output_type": "execute_result",
          "data": {
            "text/html": [
              "<div>\n",
              "<style scoped>\n",
              "    .dataframe tbody tr th:only-of-type {\n",
              "        vertical-align: middle;\n",
              "    }\n",
              "\n",
              "    .dataframe tbody tr th {\n",
              "        vertical-align: top;\n",
              "    }\n",
              "\n",
              "    .dataframe thead th {\n",
              "        text-align: right;\n",
              "    }\n",
              "</style>\n",
              "<table border=\"1\" class=\"dataframe\">\n",
              "  <thead>\n",
              "    <tr style=\"text-align: right;\">\n",
              "      <th></th>\n",
              "      <th>avg_price</th>\n",
              "      <th>avg_mileage</th>\n",
              "    </tr>\n",
              "  </thead>\n",
              "  <tbody>\n",
              "    <tr>\n",
              "      <th>volkswagen</th>\n",
              "      <td>5402</td>\n",
              "      <td>128707</td>\n",
              "    </tr>\n",
              "    <tr>\n",
              "      <th>bmw</th>\n",
              "      <td>8333</td>\n",
              "      <td>132573</td>\n",
              "    </tr>\n",
              "    <tr>\n",
              "      <th>opel</th>\n",
              "      <td>2975</td>\n",
              "      <td>129310</td>\n",
              "    </tr>\n",
              "    <tr>\n",
              "      <th>mercedes_benz</th>\n",
              "      <td>8628</td>\n",
              "      <td>130788</td>\n",
              "    </tr>\n",
              "    <tr>\n",
              "      <th>audi</th>\n",
              "      <td>9337</td>\n",
              "      <td>129157</td>\n",
              "    </tr>\n",
              "    <tr>\n",
              "      <th>ford</th>\n",
              "      <td>3749</td>\n",
              "      <td>124266</td>\n",
              "    </tr>\n",
              "  </tbody>\n",
              "</table>\n",
              "</div>"
            ],
            "text/plain": [
              "               avg_price  avg_mileage\n",
              "volkswagen          5402       128707\n",
              "bmw                 8333       132573\n",
              "opel                2975       129310\n",
              "mercedes_benz       8628       130788\n",
              "audi                9337       129157\n",
              "ford                3749       124266"
            ]
          },
          "metadata": {
            "tags": []
          },
          "execution_count": 44
        }
      ]
    },
    {
      "cell_type": "markdown",
      "metadata": {
        "id": "MbwIo9v72LTp"
      },
      "source": [
        "- The range of car mileages does not vary as much as the prices do by brand."
      ]
    }
  ]
}